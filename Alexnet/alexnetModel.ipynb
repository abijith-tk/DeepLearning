{
 "cells": [
  {
   "cell_type": "code",
   "execution_count": 1,
   "metadata": {},
   "outputs": [],
   "source": [
    "import torch\n",
    "import torch.nn as nn\n",
    "import torchvision.models as models\n",
    "import torchvision.transforms as transforms\n",
    "from torchvision.datasets import ImageFolder\n",
    "from torch.utils.data import DataLoader,SubsetRandomSampler\n",
    "from tqdm import tqdm\n",
    "import matplotlib.pyplot as plt"
   ]
  },
  {
   "cell_type": "code",
   "execution_count": 2,
   "metadata": {},
   "outputs": [],
   "source": [
    "# Define the transformation\n",
    "transform = transforms.Compose([\n",
    "    transforms.Resize((224, 224)),  # Resize the image to the desired size\n",
    "    transforms.ToTensor(),           # Convert the image to a PyTorch tensor\n",
    "    # transforms.Normalize([0.485, 0.456, 0.406], [0.229, 0.224, 0.225])  # Normalization in imagenet\n",
    "])\n",
    "\n",
    "# Define the path to your dataset folder\n",
    "path = \"images\"\n",
    "\n",
    "# Load the dataset\n",
    "dataset = ImageFolder(root=path, transform=transform)\n"
   ]
  },
  {
   "cell_type": "code",
   "execution_count": 3,
   "metadata": {},
   "outputs": [],
   "source": [
    "batch_size = 256  \n",
    "\n",
    "# Split the dataset into training, validation, and testing sets\n",
    "train_size = int(0.6 * len(dataset))  # 60% for training\n",
    "val_size = int(0.2 * len(dataset))    # 20% for validation\n",
    "test_size = len(dataset) - train_size - val_size  # Remaining for testing\n",
    "\n",
    "# Calculate the indices for each subset\n",
    "train_indices, val_indices, test_indices = torch.utils.data.random_split(\n",
    "    range(len(dataset)),\n",
    "    [train_size, val_size, test_size]\n",
    ")\n",
    "\n",
    "# Create data loaders for training, validation, and testing\n",
    "train_loader = DataLoader(\n",
    "    dataset,\n",
    "    batch_size=batch_size,\n",
    "    # sampler=SubsetRandomSampler(train_indices),\n",
    "    shuffle=True  \n",
    ")\n",
    "val_loader = DataLoader(\n",
    "    dataset,\n",
    "    batch_size=batch_size,\n",
    "    sampler=SubsetRandomSampler(val_indices),\n",
    "    shuffle=False \n",
    ")\n",
    "test_loader = DataLoader(\n",
    "    dataset,\n",
    "    batch_size=batch_size,\n",
    "    sampler=SubsetRandomSampler(test_indices),\n",
    "    shuffle=False  \n",
    ")\n"
   ]
  },
  {
   "cell_type": "code",
   "execution_count": 4,
   "metadata": {},
   "outputs": [],
   "source": [
    "# Load a pre-trained AlexNet model\n",
    "alexnet = models.alexnet(weights=\"AlexNet_Weights.DEFAULT\")\n",
    "\n",
    "num_classes = 5  \n",
    "alexnet.classifier[6] = nn.Linear(4096, num_classes)\n"
   ]
  },
  {
   "cell_type": "code",
   "execution_count": 5,
   "metadata": {},
   "outputs": [],
   "source": [
    "criterion = nn.CrossEntropyLoss()\n",
    "optimizer = torch.optim.Adam(alexnet.parameters(), lr=0.001)\n"
   ]
  },
  {
   "cell_type": "code",
   "execution_count": 6,
   "metadata": {},
   "outputs": [
    {
     "name": "stdout",
     "output_type": "stream",
     "text": [
      "Epoch [1/10]\n"
     ]
    },
    {
     "name": "stderr",
     "output_type": "stream",
     "text": [
      "100%|██████████| 98/98 [04:03<00:00,  2.48s/it, Loss=0.621, Accuracy=44.9]\n"
     ]
    },
    {
     "name": "stdout",
     "output_type": "stream",
     "text": [
      "Training Loss: 1.2368, Training Accuracy: 44.90%\n",
      "Validation Loss: 0.7037, Validation Accuracy: 59.06%\n",
      "\n",
      "Epoch [2/10]\n"
     ]
    },
    {
     "name": "stderr",
     "output_type": "stream",
     "text": [
      "100%|██████████| 98/98 [04:28<00:00,  2.74s/it, Loss=0.336, Accuracy=69.6]\n"
     ]
    },
    {
     "name": "stdout",
     "output_type": "stream",
     "text": [
      "Training Loss: 0.5684, Training Accuracy: 69.60%\n",
      "Validation Loss: 0.3627, Validation Accuracy: 84.98%\n",
      "\n",
      "Epoch [3/10]\n"
     ]
    },
    {
     "name": "stderr",
     "output_type": "stream",
     "text": [
      "100%|██████████| 98/98 [04:07<00:00,  2.53s/it, Loss=0.282, Accuracy=83.7]\n"
     ]
    },
    {
     "name": "stdout",
     "output_type": "stream",
     "text": [
      "Training Loss: 0.3974, Training Accuracy: 83.70%\n",
      "Validation Loss: 0.2892, Validation Accuracy: 89.18%\n",
      "\n",
      "Epoch [4/10]\n"
     ]
    },
    {
     "name": "stderr",
     "output_type": "stream",
     "text": [
      "100%|██████████| 98/98 [03:32<00:00,  2.17s/it, Loss=0.23, Accuracy=89.4] \n"
     ]
    },
    {
     "name": "stdout",
     "output_type": "stream",
     "text": [
      "Training Loss: 0.2617, Training Accuracy: 89.41%\n",
      "Validation Loss: 0.2420, Validation Accuracy: 91.24%\n",
      "\n",
      "Epoch [5/10]\n"
     ]
    },
    {
     "name": "stderr",
     "output_type": "stream",
     "text": [
      "100%|██████████| 98/98 [04:01<00:00,  2.47s/it, Loss=0.127, Accuracy=93.1] \n"
     ]
    },
    {
     "name": "stdout",
     "output_type": "stream",
     "text": [
      "Training Loss: 0.1809, Training Accuracy: 93.06%\n",
      "Validation Loss: 0.1663, Validation Accuracy: 93.52%\n",
      "\n",
      "Epoch [6/10]\n"
     ]
    },
    {
     "name": "stderr",
     "output_type": "stream",
     "text": [
      "100%|██████████| 98/98 [03:41<00:00,  2.26s/it, Loss=0.0944, Accuracy=94.6]\n"
     ]
    },
    {
     "name": "stdout",
     "output_type": "stream",
     "text": [
      "Training Loss: 0.1362, Training Accuracy: 94.57%\n",
      "Validation Loss: 0.0958, Validation Accuracy: 96.24%\n",
      "\n",
      "Epoch [7/10]\n"
     ]
    },
    {
     "name": "stderr",
     "output_type": "stream",
     "text": [
      "100%|██████████| 98/98 [03:58<00:00,  2.44s/it, Loss=0.142, Accuracy=92.4] \n"
     ]
    },
    {
     "name": "stdout",
     "output_type": "stream",
     "text": [
      "Training Loss: 0.1897, Training Accuracy: 92.44%\n",
      "Validation Loss: 0.0932, Validation Accuracy: 96.52%\n",
      "\n",
      "Epoch [8/10]\n"
     ]
    },
    {
     "name": "stderr",
     "output_type": "stream",
     "text": [
      "100%|██████████| 98/98 [03:31<00:00,  2.16s/it, Loss=0.162, Accuracy=94.9] \n"
     ]
    },
    {
     "name": "stdout",
     "output_type": "stream",
     "text": [
      "Training Loss: 0.1375, Training Accuracy: 94.92%\n",
      "Validation Loss: 0.2397, Validation Accuracy: 89.82%\n",
      "\n",
      "Epoch [9/10]\n"
     ]
    },
    {
     "name": "stderr",
     "output_type": "stream",
     "text": [
      "100%|██████████| 98/98 [03:50<00:00,  2.35s/it, Loss=0.0842, Accuracy=95.9]\n"
     ]
    },
    {
     "name": "stdout",
     "output_type": "stream",
     "text": [
      "Training Loss: 0.1044, Training Accuracy: 95.95%\n",
      "Validation Loss: 0.0558, Validation Accuracy: 98.12%\n",
      "\n",
      "Epoch [10/10]\n"
     ]
    },
    {
     "name": "stderr",
     "output_type": "stream",
     "text": [
      "100%|██████████| 98/98 [03:44<00:00,  2.29s/it, Loss=0.0407, Accuracy=96.9]\n"
     ]
    },
    {
     "name": "stdout",
     "output_type": "stream",
     "text": [
      "Training Loss: 0.0814, Training Accuracy: 96.85%\n",
      "Validation Loss: 0.0616, Validation Accuracy: 97.30%\n",
      "\n"
     ]
    }
   ],
   "source": [
    "train_losses = []\n",
    "train_accuracies = []\n",
    "validation_losses = []\n",
    "validation_accuracies = []\n",
    "\n",
    "num_epochs = 10\n",
    "\n",
    "device = torch.device(\"cuda\" if torch.cuda.is_available() else \"cpu\")\n",
    "alexnet.to(device)\n",
    "\n",
    "from torch.optim.lr_scheduler import ReduceLROnPlateau\n",
    "\n",
    "# Define a learning rate scheduler\n",
    "scheduler = ReduceLROnPlateau(optimizer, mode='min', factor=0.1, patience=3, verbose=True)\n",
    "\n",
    "# Training\n",
    "for epoch in range(num_epochs):\n",
    "    alexnet.train()\n",
    "    running_loss = 0.0\n",
    "    total_correct = 0\n",
    "    total_samples = 0\n",
    "\n",
    "    print(f\"Epoch [{epoch + 1}/{num_epochs}]\")\n",
    "    train_loader_with_progress = tqdm(train_loader)\n",
    "\n",
    "    for inputs, labels in train_loader_with_progress:\n",
    "        inputs, labels = inputs.to(device), labels.to(device)\n",
    "        optimizer.zero_grad()\n",
    "        outputs = alexnet(inputs)\n",
    "        loss = criterion(outputs, labels)\n",
    "        loss.backward()\n",
    "        optimizer.step()\n",
    "        running_loss += loss.item()\n",
    "\n",
    "        _, predicted = torch.max(outputs, 1)\n",
    "        total_samples += labels.size(0)\n",
    "        total_correct += (predicted == labels).sum().item()\n",
    "\n",
    "        train_loader_with_progress.set_postfix({\"Loss\": loss.item(), \"Accuracy\": total_correct / total_samples * 100.0})\n",
    "\n",
    "    average_loss = running_loss / len(train_loader)\n",
    "    train_losses.append(average_loss)  # Store loss for this epoch\n",
    "\n",
    "    # Calculate accuracy for this epoch\n",
    "    epoch_accuracy = total_correct / total_samples * 100.0\n",
    "    train_accuracies.append(epoch_accuracy)  # Store accuracy for this epoch\n",
    "\n",
    "    print(f\"Training Loss: {average_loss:.4f}, Training Accuracy: {epoch_accuracy:.2f}%\")\n",
    "\n",
    "    # Validation\n",
    "    alexnet.eval()  # Set the model to evaluation mode\n",
    "    validation_loss = 0.0\n",
    "    total_correct_val = 0\n",
    "    total_samples_val = 0\n",
    "\n",
    "    with torch.no_grad():\n",
    "        for val_inputs, val_labels in val_loader:\n",
    "            val_inputs, val_labels = val_inputs.to(device), val_labels.to(device)\n",
    "            val_outputs = alexnet(val_inputs)\n",
    "            val_loss = criterion(val_outputs, val_labels)\n",
    "            validation_loss += val_loss.item()\n",
    "\n",
    "            _, val_predicted = torch.max(val_outputs, 1)\n",
    "            total_samples_val += val_labels.size(0)\n",
    "            total_correct_val += (val_predicted == val_labels).sum().item()\n",
    "\n",
    "    average_validation_loss = validation_loss / len(val_loader)\n",
    "    validation_losses.append(average_validation_loss)  # Store validation loss for this epoch\n",
    "\n",
    "    # Calculate validation accuracy for this epoch\n",
    "    epoch_validation_accuracy = total_correct_val / total_samples_val * 100.0\n",
    "    validation_accuracies.append(epoch_validation_accuracy)  # Store validation accuracy for this epoch\n",
    "\n",
    "    print(f\"Validation Loss: {average_validation_loss:.4f}, Validation Accuracy: {epoch_validation_accuracy:.2f}%\\n\")\n",
    "\n",
    "# # Training accuracy\n",
    "# training_accuracy = total_correct / total_samples * 100.0\n",
    "# print(f\"Training Accuracy: {training_accuracy:.2f}%\")\n",
    "\n",
    "# Final evaluation on the test set (similar to validation)\n",
    "# alexnet.eval()\n",
    "# total_correct_test = 0\n",
    "# total_samples_test = 0\n",
    "\n",
    "# with torch.no_grad():\n",
    "#     for test_inputs, test_labels in test_loader:\n",
    "#         test_inputs, test_labels = test_inputs.to(device), test_labels.to(device)\n",
    "#         test_outputs = alexnet(test_inputs)\n",
    "#         _, test_predicted = torch.max(test_outputs, 1)\n",
    "#         total_samples_test += test_labels.size(0)\n",
    "#         total_correct_test += (test_predicted == test_labels).sum().item()\n",
    "\n",
    "# test_accuracy = total_correct_test / total_samples_test * 100.0\n",
    "# print(f\"Test Accuracy: {test_accuracy:.2f}%\")\n"
   ]
  },
  {
   "cell_type": "code",
   "execution_count": 7,
   "metadata": {},
   "outputs": [
    {
     "name": "stderr",
     "output_type": "stream",
     "text": [
      "  0%|          | 0/20 [00:00<?, ?it/s]"
     ]
    },
    {
     "name": "stderr",
     "output_type": "stream",
     "text": [
      "100%|██████████| 20/20 [01:07<00:00,  3.37s/it]"
     ]
    },
    {
     "name": "stdout",
     "output_type": "stream",
     "text": [
      "Test Accuracy: 97.82%\n"
     ]
    },
    {
     "name": "stderr",
     "output_type": "stream",
     "text": [
      "\n"
     ]
    }
   ],
   "source": [
    "# Evaluation on the test set\n",
    "alexnet.eval()  # Set the model to evaluation mode\n",
    "total_correct = 0\n",
    "total_samples = 0\n",
    "\n",
    "test_loader_with_progress = tqdm(test_loader)\n",
    "\n",
    "for inputs, labels in test_loader_with_progress:\n",
    "    inputs, labels = inputs.to(device), labels.to(device)\n",
    "    outputs = alexnet(inputs)\n",
    "    _, predicted = torch.max(outputs, 1)\n",
    "    total_samples += labels.size(0)\n",
    "    total_correct += (predicted == labels).sum().item()\n",
    "\n",
    "# Test accuracy\n",
    "test_accuracy = total_correct / total_samples * 100.0\n",
    "print(f\"Test Accuracy: {test_accuracy:.2f}%\")"
   ]
  },
  {
   "cell_type": "code",
   "execution_count": 8,
   "metadata": {},
   "outputs": [
    {
     "data": {
      "image/png": "[encoded data removed]",
      "text/plain": [
       "<Figure size 640x480 with 1 Axes>"
      ]
     },
     "metadata": {},
     "output_type": "display_data"
    },
    {
     "data": {
      "image/png": "[encoded data removed]",
      "text/plain": [
       "<Figure size 640x480 with 1 Axes>"
      ]
     },
     "metadata": {},
     "output_type": "display_data"
    }
   ],
   "source": [
    "# Plot loss and accuracy\n",
    "\n",
    "plt.plot(train_accuracies, label='Training Accuracy')\n",
    "plt.plot(validation_accuracies, label='Validation Accuracy')  \n",
    "plt.xlabel('Epochs')\n",
    "plt.ylabel('Accuracy (%)')\n",
    "plt.legend()\n",
    "plt.title(\"Accuracy\")\n",
    "plt.show()\n",
    "\n",
    "plt.plot(train_losses, label='Training Loss')\n",
    "plt.plot(validation_losses, label='Validation Loss') \n",
    "plt.xlabel('Epochs')\n",
    "plt.ylabel('Loss')\n",
    "plt.title(\"Loss\")\n",
    "plt.legend()\n",
    "plt.show()"
   ]
  },
  {
   "cell_type": "code",
   "execution_count": 9,
   "metadata": {},
   "outputs": [],
   "source": [
    "import pandas as pd\n",
    "\n",
    "data = {\n",
    "    'Epoch': list(range(1, num_epochs + 1)),\n",
    "    'Training Loss': train_losses,\n",
    "    'Training Accuracy (%)': train_accuracies,\n",
    "    'Validation Loss': validation_losses,\n",
    "    'Validation Accuracy (%)': validation_accuracies,\n",
    "}\n",
    "\n",
    "df_train = pd.DataFrame(data)\n",
    "\n",
    "df_train.to_csv('alexnet_training_metrics.csv', index=False)\n"
   ]
  },
  {
   "cell_type": "code",
   "execution_count": 10,
   "metadata": {},
   "outputs": [],
   "source": [
    "torch.save(alexnet.state_dict(), \"alexnet.pth\")"
   ]
  },
  {
   "cell_type": "code",
   "execution_count": null,
   "metadata": {},
   "outputs": [],
   "source": []
  },
  {
   "cell_type": "code",
   "execution_count": null,
   "metadata": {},
   "outputs": [],
   "source": []
  },
  {
   "cell_type": "code",
   "execution_count": null,
   "metadata": {},
   "outputs": [],
   "source": []
  }
 ],
 "metadata": {
  "kernelspec": {
   "display_name": "torchEnv",
   "language": "python",
   "name": "python3"
  },
  "language_info": {
   "codemirror_mode": {
    "name": "ipython",
    "version": 3
   },
   "file_extension": ".py",
   "mimetype": "text/x-python",
   "name": "python",
   "nbconvert_exporter": "python",
   "pygments_lexer": "ipython3",
   "version": "3.11.5"
  },
  "orig_nbformat": 4
 },
 "nbformat": 4,
 "nbformat_minor": 2
}
