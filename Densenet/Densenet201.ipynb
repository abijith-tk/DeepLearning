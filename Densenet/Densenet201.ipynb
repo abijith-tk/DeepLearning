{
 "cells": [
  {
   "cell_type": "code",
   "execution_count": null,
   "metadata": {},
   "outputs": [],
   "source": [
    "\n"
   ]
  },
  {
   "cell_type": "code",
   "execution_count": 1,
   "metadata": {},
   "outputs": [],
   "source": [
    "import numpy as np\n",
    "import pandas as pd\n",
    "import tensorflow as tf \n",
    "from tensorflow import keras \n",
    "from keras import layers\n",
    "from keras.models import Sequential \n",
    "from keras.layers import Dense,GlobalAveragePooling2D\n",
    "from keras.applications import DenseNet201\n",
    "from keras.utils import to_categorical\n",
    "from sklearn.model_selection import train_test_split \n",
    "from sklearn.metrics import confusion_matrix,accuracy_score,classification_report\n",
    "import matplotlib.pyplot as plt \n",
    "import seaborn as sns\n",
    "import glob \n",
    "import cv2\n",
    "from tqdm import tqdm\n",
    "import pathlib"
   ]
  },
  {
   "cell_type": "code",
   "execution_count": 2,
   "metadata": {},
   "outputs": [],
   "source": [
    "dataset = pathlib.Path(\"../lung_colon_image_set/\")\n",
    "images = list(dataset.glob('*/*/*.jpeg'))\n",
    "\n",
    "lbt = dataset.glob('lung_image_sets/lung_n/*')\n",
    "laca = dataset.glob('lung_image_sets/lung_aca/*')\n",
    "lscc = dataset.glob('lung_image_sets/lung_scc/*')\n",
    "cacc = dataset.glob('colon_image_sets/colon_aca/*')\n",
    "cbt = dataset.glob('colon_image_sets/colon_n/*')\n",
    "\n",
    "lung_benign_tissue = list(lbt)\n",
    "lung_adenocarcinoma = list(laca)\n",
    "lung_squamous_cell_carcinoma = list(lscc)\n",
    "colon_adenocarcinoma = list(cacc)\n",
    "colon_benign_tissue = list(cbt)"
   ]
  },
  {
   "cell_type": "code",
   "execution_count": 3,
   "metadata": {},
   "outputs": [],
   "source": [
    "label_dict = {\n",
    "    'lung_benign_tissue' : 0,\n",
    "    'lung_adenocarcinoma' : 1,\n",
    "    'lung_squamous_cell_carcinoma' : 2,\n",
    "    'colon_adenocarcinoma' : 3,\n",
    "    'colon_benign_tissue' : 4\n",
    "}\n",
    "\n",
    "image_dict = {\n",
    "    'lung_benign_tissue' : lung_benign_tissue,\n",
    "    'lung_adenocarcinoma' : lung_adenocarcinoma,\n",
    "    'lung_squamous_cell_carcinoma' : lung_squamous_cell_carcinoma,\n",
    "    'colon_adenocarcinoma' : colon_adenocarcinoma,\n",
    "    'colon_benign_tissue' :colon_benign_tissue\n",
    "}"
   ]
  },
  {
   "cell_type": "code",
   "execution_count": 4,
   "metadata": {},
   "outputs": [
    {
     "name": "stderr",
     "output_type": "stream",
     "text": [
      "Processing Images: 100%|██████████| 5/5 [04:12<00:00, 50.43s/it]\n"
     ]
    }
   ],
   "source": [
    "x,y = [],[]\n",
    "\n",
    "for name,images in tqdm(image_dict.items(), desc='Processing Images'):\n",
    "    for i in tqdm(images, desc=f'Processing {name} Images', leave=False):\n",
    "        img = cv2.imread(str(i))\n",
    "        re_img = cv2.resize(img,(200,200))\n",
    "        re_img=np.round((re_img.astype(np.float16)/255.0),4)\n",
    "        x.append(re_img)\n",
    "        y.append(label_dict[name])\n",
    "\n",
    "x = np.array(x)\n",
    "y = np.array(y)"
   ]
  },
  {
   "cell_type": "code",
   "execution_count": 5,
   "metadata": {},
   "outputs": [],
   "source": [
    "x_train,x_test,y_train,y_test = train_test_split(x,y,train_size=0.7,random_state=10)\n",
    "x_test,x_val,y_test,y_val = train_test_split(x_test,y_test,test_size=0.5,random_state=100)"
   ]
  },
  {
   "cell_type": "code",
   "execution_count": 6,
   "metadata": {},
   "outputs": [
    {
     "name": "stdout",
     "output_type": "stream",
     "text": [
      "X train :  (14000, 200, 200, 3)\n",
      "X test :  (3000, 200, 200, 3)\n"
     ]
    }
   ],
   "source": [
    "print(\"X train : \",x_train.shape)\n",
    "print(\"X test : \",x_test.shape)"
   ]
  },
  {
   "cell_type": "code",
   "execution_count": 7,
   "metadata": {},
   "outputs": [],
   "source": [
    "model = Sequential()\n",
    "inc_res_model = DenseNet201(weights='imagenet',include_top=False,input_shape=(200,200,3))\n",
    "model.add(inc_res_model)\n",
    "model.add(GlobalAveragePooling2D())\n",
    "model.add(Dense(5,activation='softmax'))\n",
    "\n",
    "for layer in inc_res_model.layers:\n",
    "    layer.trainable = False\n",
    "\n",
    "y_train_cat = to_categorical(y_train, num_classes=5)\n",
    "y_test_cat = to_categorical(y_test,num_classes=5)\n",
    "y_val_cat = to_categorical(y_val,num_classes=5)\n",
    "model.compile(optimizer='adam', loss='categorical_crossentropy', metrics=['accuracy'])"
   ]
  },
  {
   "cell_type": "code",
   "execution_count": 8,
   "metadata": {},
   "outputs": [
    {
     "name": "stdout",
     "output_type": "stream",
     "text": [
      "Model: \"sequential\"\n",
      "_________________________________________________________________\n",
      " Layer (type)                Output Shape              Param #   \n",
      "=================================================================\n",
      " densenet201 (Functional)    (None, 6, 6, 1920)        18321984  \n",
      "                                                                 \n",
      " global_average_pooling2d (  (None, 1920)              0         \n",
      " GlobalAveragePooling2D)                                         \n",
      "                                                                 \n",
      " dense (Dense)               (None, 5)                 9605      \n",
      "                                                                 \n",
      "=================================================================\n",
      "Total params: 18331589 (69.93 MB)\n",
      "Trainable params: 9605 (37.52 KB)\n",
      "Non-trainable params: 18321984 (69.89 MB)\n",
      "_________________________________________________________________\n"
     ]
    }
   ],
   "source": [
    "model.summary()"
   ]
  },
  {
   "cell_type": "code",
   "execution_count": 9,
   "metadata": {},
   "outputs": [
    {
     "name": "stdout",
     "output_type": "stream",
     "text": [
      "Epoch 1/10\n",
      "438/438 [==============================] - 1614s 4s/step - loss: 0.2218 - accuracy: 0.9354 - val_loss: 0.1059 - val_accuracy: 0.9680\n",
      "Epoch 2/10\n",
      "438/438 [==============================] - 1473s 3s/step - loss: 0.0830 - accuracy: 0.9757 - val_loss: 0.0794 - val_accuracy: 0.9723\n",
      "Epoch 3/10\n",
      "438/438 [==============================] - 1463s 3s/step - loss: 0.0610 - accuracy: 0.9819 - val_loss: 0.0581 - val_accuracy: 0.9823\n",
      "Epoch 4/10\n",
      "438/438 [==============================] - 1465s 3s/step - loss: 0.0482 - accuracy: 0.9854 - val_loss: 0.0491 - val_accuracy: 0.9853\n",
      "Epoch 5/10\n",
      "438/438 [==============================] - 1470s 3s/step - loss: 0.0408 - accuracy: 0.9875 - val_loss: 0.0445 - val_accuracy: 0.9853\n",
      "Epoch 6/10\n",
      "438/438 [==============================] - 1460s 3s/step - loss: 0.0354 - accuracy: 0.9895 - val_loss: 0.0434 - val_accuracy: 0.9853\n",
      "Epoch 7/10\n",
      "438/438 [==============================] - 1462s 3s/step - loss: 0.0323 - accuracy: 0.9904 - val_loss: 0.0390 - val_accuracy: 0.9873\n",
      "Epoch 8/10\n",
      "438/438 [==============================] - 1457s 3s/step - loss: 0.0281 - accuracy: 0.9921 - val_loss: 0.0378 - val_accuracy: 0.9873\n",
      "Epoch 9/10\n",
      "438/438 [==============================] - 1449s 3s/step - loss: 0.0257 - accuracy: 0.9931 - val_loss: 0.0315 - val_accuracy: 0.9923\n",
      "Epoch 10/10\n",
      "438/438 [==============================] - 1453s 3s/step - loss: 0.0233 - accuracy: 0.9934 - val_loss: 0.0284 - val_accuracy: 0.9907\n",
      "       loss  accuracy  val_loss  val_accuracy\n",
      "0  0.221806  0.935357  0.105920      0.968000\n",
      "1  0.082977  0.975714  0.079352      0.972333\n",
      "2  0.061032  0.981857  0.058091      0.982333\n",
      "3  0.048198  0.985429  0.049083      0.985333\n",
      "4  0.040833  0.987500  0.044488      0.985333\n",
      "5  0.035415  0.989500  0.043384      0.985333\n",
      "6  0.032287  0.990429  0.038986      0.987333\n",
      "7  0.028090  0.992143  0.037791      0.987333\n",
      "8  0.025698  0.993143  0.031518      0.992333\n",
      "9  0.023250  0.993429  0.028417      0.990667\n"
     ]
    }
   ],
   "source": [
    "history = model.fit(x_train,y_train_cat,validation_data=(x_val,y_val_cat),epochs=10,batch_size=32)\n",
    "hist = pd.DataFrame(history.history)\n",
    "print(hist)\n",
    "hist.to_csv('densenet.csv',index=False)"
   ]
  },
  {
   "cell_type": "code",
   "execution_count": 10,
   "metadata": {},
   "outputs": [
    {
     "name": "stdout",
     "output_type": "stream",
     "text": [
      "94/94 [==============================] - 248s 3s/step - loss: 0.0361 - accuracy: 0.9883\n"
     ]
    },
    {
     "data": {
      "text/plain": [
       "[0.0361163392663002, 0.9883333444595337]"
      ]
     },
     "execution_count": 10,
     "metadata": {},
     "output_type": "execute_result"
    }
   ],
   "source": [
    "model.evaluate(x_test,y_test_cat)"
   ]
  },
  {
   "cell_type": "code",
   "execution_count": 11,
   "metadata": {},
   "outputs": [
    {
     "data": {
      "image/png": "[encoded data removed]",
      "text/plain": [
       "<Figure size 640x480 with 1 Axes>"
      ]
     },
     "metadata": {},
     "output_type": "display_data"
    },
    {
     "data": {
      "text/plain": [
       "<Figure size 640x480 with 0 Axes>"
      ]
     },
     "metadata": {},
     "output_type": "display_data"
    }
   ],
   "source": [
    "plt.plot(history.history['accuracy'],color='blue',label='accuracy')\n",
    "plt.plot(history.history['val_accuracy'],color='orange',label='val_accuracy')\n",
    "plt.legend()\n",
    "plt.title('Accuracy')\n",
    "plt.show()\n",
    "plt.savefig('accuracy-densenet.png')"
   ]
  },
  {
   "cell_type": "code",
   "execution_count": 12,
   "metadata": {},
   "outputs": [
    {
     "data": {
      "image/png": "[encoded data removed]",
      "text/plain": [
       "<Figure size 640x480 with 1 Axes>"
      ]
     },
     "metadata": {},
     "output_type": "display_data"
    },
    {
     "data": {
      "text/plain": [
       "<Figure size 640x480 with 0 Axes>"
      ]
     },
     "metadata": {},
     "output_type": "display_data"
    }
   ],
   "source": [
    "x=list(range(0,10))\n",
    "plt.plot(hist['loss'])\n",
    "plt.plot(hist['val_loss'])\n",
    "plt.xticks(x)\n",
    "plt.title(\"Training Loss\")\n",
    "plt.show()\n",
    "plt.savefig(\"loss-densenet.png\")"
   ]
  },
  {
   "cell_type": "code",
   "execution_count": null,
   "metadata": {},
   "outputs": [],
   "source": [
    "model.save('densenet.h5')"
   ]
  },
  {
   "cell_type": "code",
   "execution_count": null,
   "metadata": {},
   "outputs": [],
   "source": []
  }
 ],
 "metadata": {
  "kernelspec": {
   "display_name": "DL",
   "language": "python",
   "name": "python3"
  },
  "language_info": {
   "codemirror_mode": {
    "name": "ipython",
    "version": 3
   },
   "file_extension": ".py",
   "mimetype": "text/x-python",
   "name": "python",
   "nbconvert_exporter": "python",
   "pygments_lexer": "ipython3",
   "version": "3.11.5"
  },
  "orig_nbformat": 4
 },
 "nbformat": 4,
 "nbformat_minor": 2
}
