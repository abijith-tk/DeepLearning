{
 "cells": [
  {
   "cell_type": "code",
   "execution_count": 13,
   "metadata": {},
   "outputs": [],
   "source": [
    "import numpy as np \n",
    "import pandas as pd \n",
    "import tensorflow as tf \n",
    "from tensorflow import keras \n",
    "from keras.models import Sequential \n",
    "from keras.layers import Dense,GlobalAveragePooling2D\n",
    "from keras.utils import to_categorical\n",
    "import matplotlib.pyplot as plt \n",
    "import seaborn as sns\n",
    "from tqdm import tqdm \n",
    "from sklearn.model_selection import train_test_split \n",
    "from keras.applications import inception_resnet_v2\n",
    "from sklearn.metrics import confusion_matrix,accuracy_score,classification_report\n",
    "import glob \n",
    "import cv2"
   ]
  },
  {
   "cell_type": "markdown",
   "metadata": {},
   "source": [
    "#### Loading the dataset"
   ]
  },
  {
   "cell_type": "code",
   "execution_count": 7,
   "metadata": {},
   "outputs": [],
   "source": [
    "import pathlib\n",
    "\n",
    "dataset = pathlib.Path(\"lung_colon_image_set/lung_image_sets/\")\n",
    "images = list(dataset.glob('*/*.jpeg'))"
   ]
  },
  {
   "cell_type": "code",
   "execution_count": 8,
   "metadata": {},
   "outputs": [],
   "source": [
    "lbt = dataset.glob('lung_n/*')\n",
    "laca = dataset.glob('lung_aca/*')\n",
    "lscc = dataset.glob('lung_scc/*')\n",
    "\n",
    "lung_benign_tissue = list(lbt)\n",
    "lung_adenocarcinoma = list(laca)\n",
    "lung_squamous_cell_carcinoma = list(lscc)"
   ]
  },
  {
   "cell_type": "code",
   "execution_count": 9,
   "metadata": {},
   "outputs": [],
   "source": [
    "label_dict = {\n",
    "    'lung_benign_tissue' : 0,\n",
    "    'lung_adenocarcinoma' : 1,\n",
    "    'lung_squamous_cell_carcinoma' : 2,\n",
    "}\n",
    "\n",
    "image_dict = {\n",
    "    'lung_benign_tissue' : lung_benign_tissue,\n",
    "    'lung_adenocarcinoma' : lung_adenocarcinoma,\n",
    "    'lung_squamous_cell_carcinoma' : lung_squamous_cell_carcinoma,\n",
    "}"
   ]
  },
  {
   "cell_type": "markdown",
   "metadata": {},
   "source": [
    "#### Preprocessing"
   ]
  },
  {
   "cell_type": "code",
   "execution_count": 14,
   "metadata": {},
   "outputs": [
    {
     "name": "stderr",
     "output_type": "stream",
     "text": [
      "Processing Images: 100%|██████████| 3/3 [03:05<00:00, 61.78s/it]\n"
     ]
    }
   ],
   "source": [
    "x,y = [],[]\n",
    "\n",
    "for name,images in tqdm(image_dict.items(), desc='Processing Images'):\n",
    "    for img in tqdm(images, desc=f'Processing {name} Images', leave=False):\n",
    "        i = cv2.imread(str(img))\n",
    "        resized_image = cv2.resize(i,(200,200))\n",
    "        resized_image = resized_image.astype(np.float16)/255.0\n",
    "        resized_image = np.round(resized_image,4)\n",
    "        x.append(resized_image)\n",
    "        y.append(label_dict[name])\n",
    "\n",
    "x = np.array(x)\n",
    "y = np.array(y)"
   ]
  },
  {
   "cell_type": "markdown",
   "metadata": {},
   "source": [
    "#### Splitting the dataset for training and testing"
   ]
  },
  {
   "cell_type": "code",
   "execution_count": 15,
   "metadata": {},
   "outputs": [
    {
     "data": {
      "text/plain": [
       "(10500, 200, 200, 3)"
      ]
     },
     "execution_count": 15,
     "metadata": {},
     "output_type": "execute_result"
    }
   ],
   "source": [
    "x_train,x_test,y_train,y_test = train_test_split(x,y,train_size=0.7,random_state=10)\n",
    "x_train.shape"
   ]
  },
  {
   "cell_type": "markdown",
   "metadata": {},
   "source": [
    "#### Building the model"
   ]
  },
  {
   "cell_type": "code",
   "execution_count": 16,
   "metadata": {},
   "outputs": [
    {
     "name": "stdout",
     "output_type": "stream",
     "text": [
      "Model: \"sequential\"\n",
      "_________________________________________________________________\n",
      " Layer (type)                Output Shape              Param #   \n",
      "=================================================================\n",
      " inception_resnet_v2 (Funct  (None, 4, 4, 1536)        54336736  \n",
      " ional)                                                          \n",
      "                                                                 \n",
      " global_average_pooling2d (  (None, 1536)              0         \n",
      " GlobalAveragePooling2D)                                         \n",
      "                                                                 \n",
      " dense (Dense)               (None, 3)                 4611      \n",
      "                                                                 \n",
      "=================================================================\n",
      "Total params: 54341347 (207.30 MB)\n",
      "Trainable params: 4611 (18.01 KB)\n",
      "Non-trainable params: 54336736 (207.28 MB)\n",
      "_________________________________________________________________\n"
     ]
    }
   ],
   "source": [
    "model = Sequential()\n",
    "inc_res_model = inception_resnet_v2.InceptionResNetV2(weights='imagenet',include_top=False,input_shape=(200,200,3))\n",
    "model.add(inc_res_model)\n",
    "model.add(GlobalAveragePooling2D())\n",
    "model.add(Dense(3,activation='softmax'))\n",
    "\n",
    "for layer in inc_res_model.layers:\n",
    "    layer.trainable = False\n",
    "\n",
    "y_train_cat = to_categorical(y_train, num_classes=3)\n",
    "model.compile(optimizer='adam', loss='categorical_crossentropy', metrics=['accuracy'])\n",
    "model.summary()"
   ]
  },
  {
   "cell_type": "code",
   "execution_count": 17,
   "metadata": {},
   "outputs": [
    {
     "name": "stdout",
     "output_type": "stream",
     "text": [
      "Epoch 1/10\n",
      "1313/1313 [==============================] - 571s 425ms/step - loss: 0.1803 - accuracy: 0.9308\n",
      "Epoch 2/10\n",
      "1313/1313 [==============================] - 551s 420ms/step - loss: 0.1189 - accuracy: 0.9523\n",
      "Epoch 3/10\n",
      "1313/1313 [==============================] - 553s 421ms/step - loss: 0.0984 - accuracy: 0.9614\n",
      "Epoch 4/10\n",
      "1313/1313 [==============================] - 555s 422ms/step - loss: 0.0889 - accuracy: 0.9658\n",
      "Epoch 5/10\n",
      "1313/1313 [==============================] - 567s 432ms/step - loss: 0.0709 - accuracy: 0.9708\n",
      "Epoch 6/10\n",
      "1313/1313 [==============================] - 559s 426ms/step - loss: 0.0704 - accuracy: 0.9720\n",
      "Epoch 7/10\n",
      "1313/1313 [==============================] - 559s 426ms/step - loss: 0.0700 - accuracy: 0.9718\n",
      "Epoch 8/10\n",
      "1313/1313 [==============================] - 564s 429ms/step - loss: 0.0647 - accuracy: 0.9728\n",
      "Epoch 9/10\n",
      "1313/1313 [==============================] - 567s 432ms/step - loss: 0.0585 - accuracy: 0.9753\n",
      "Epoch 10/10\n",
      "1313/1313 [==============================] - 560s 427ms/step - loss: 0.0513 - accuracy: 0.9802\n"
     ]
    }
   ],
   "source": [
    "history = model.fit(x_train,y_train_cat,epochs=10,batch_size=8)"
   ]
  },
  {
   "cell_type": "code",
   "execution_count": 18,
   "metadata": {},
   "outputs": [],
   "source": [
    "model_hist=pd.DataFrame(history.history)"
   ]
  },
  {
   "cell_type": "markdown",
   "metadata": {},
   "source": [
    "#### Model Evaluation"
   ]
  },
  {
   "cell_type": "code",
   "execution_count": 19,
   "metadata": {},
   "outputs": [
    {
     "name": "stdout",
     "output_type": "stream",
     "text": [
      "141/141 [==============================] - 219s 2s/step - loss: 0.0528 - accuracy: 0.9773\n"
     ]
    },
    {
     "data": {
      "text/plain": [
       "[0.05284532532095909, 0.9773333072662354]"
      ]
     },
     "execution_count": 19,
     "metadata": {},
     "output_type": "execute_result"
    }
   ],
   "source": [
    "y_test_cat=to_categorical(y_test,num_classes=3)\n",
    "model.evaluate(x_test,y_test_cat)"
   ]
  },
  {
   "cell_type": "code",
   "execution_count": 20,
   "metadata": {},
   "outputs": [
    {
     "data": {
      "image/png": "[encoded data removed]",
      "text/plain": [
       "<Figure size 640x480 with 1 Axes>"
      ]
     },
     "metadata": {},
     "output_type": "display_data"
    }
   ],
   "source": [
    "plt.plot(history.history['accuracy'],color='blue',label='accuracy')\n",
    "plt.legend()\n",
    "plt.title('Accuracy')\n",
    "plt.show()"
   ]
  },
  {
   "cell_type": "code",
   "execution_count": 21,
   "metadata": {},
   "outputs": [
    {
     "data": {
      "image/png": "[encoded data removed]",
      "text/plain": [
       "<Figure size 640x480 with 1 Axes>"
      ]
     },
     "metadata": {},
     "output_type": "display_data"
    }
   ],
   "source": [
    "x=list(range(0,3))\n",
    "plt.plot(model_hist['loss'])\n",
    "plt.xticks(x)\n",
    "plt.title(\"Training Loss\")\n",
    "plt.show()"
   ]
  },
  {
   "cell_type": "code",
   "execution_count": 22,
   "metadata": {},
   "outputs": [
    {
     "name": "stdout",
     "output_type": "stream",
     "text": [
      "141/141 [==============================] - 214s 1s/step\n",
      "              precision    recall  f1-score   support\n",
      "\n",
      "           0       1.00      1.00      1.00      1480\n",
      "           1       0.97      0.96      0.97      1562\n",
      "           2       0.96      0.97      0.97      1458\n",
      "\n",
      "    accuracy                           0.98      4500\n",
      "   macro avg       0.98      0.98      0.98      4500\n",
      "weighted avg       0.98      0.98      0.98      4500\n",
      "\n"
     ]
    }
   ],
   "source": [
    "y_pred_model=model.predict(x_test)\n",
    "y_pred_model=np.argmax(y_pred_model,axis=1)\n",
    "print(classification_report(y_pred_model,y_test))"
   ]
  },
  {
   "cell_type": "code",
   "execution_count": 23,
   "metadata": {},
   "outputs": [
    {
     "data": {
      "text/plain": [
       "0.9773333333333334"
      ]
     },
     "execution_count": 23,
     "metadata": {},
     "output_type": "execute_result"
    }
   ],
   "source": [
    "accuracy_score(y_test,y_pred_model)"
   ]
  },
  {
   "cell_type": "code",
   "execution_count": null,
   "metadata": {},
   "outputs": [],
   "source": [
    "model.save(model1.h5)"
   ]
  },
  {
   "cell_type": "code",
   "execution_count": null,
   "metadata": {},
   "outputs": [],
   "source": []
  }
 ],
 "metadata": {
  "kernelspec": {
   "display_name": "DL",
   "language": "python",
   "name": "python3"
  },
  "language_info": {
   "codemirror_mode": {
    "name": "ipython",
    "version": 3
   },
   "file_extension": ".py",
   "mimetype": "text/x-python",
   "name": "python",
   "nbconvert_exporter": "python",
   "pygments_lexer": "ipython3",
   "version": "3.11.5"
  },
  "orig_nbformat": 4
 },
 "nbformat": 4,
 "nbformat_minor": 2
}
