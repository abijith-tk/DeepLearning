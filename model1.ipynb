{
 "cells": [
  {
   "cell_type": "code",
   "execution_count": 1,
   "metadata": {},
   "outputs": [],
   "source": [
    "import numpy as np \n",
    "import pandas as pd \n",
    "import tensorflow as tf \n",
    "from tensorflow import keras \n",
    "from keras.models import Sequential \n",
    "from keras.layers import Dense,GlobalAveragePooling2D\n",
    "from keras.utils import to_categorical\n",
    "import matplotlib.pyplot as plt \n",
    "import seaborn as sns\n",
    "import tqdm \n",
    "from sklearn.model_selection import train_test_split \n",
    "from keras.applications import inception_resnet_v2\n",
    "from sklearn.metrics import confusion_matrix,accuracy_score,classification_report\n",
    "import glob \n",
    "import cv2"
   ]
  },
  {
   "cell_type": "code",
   "execution_count": 2,
   "metadata": {},
   "outputs": [],
   "source": [
    "import pathlib\n",
    "\n",
    "dataset = pathlib.Path(\"lung_colon_image_set/lung_image_sets/\")\n",
    "images = list(dataset.glob('*/*.jpeg'))"
   ]
  },
  {
   "cell_type": "code",
   "execution_count": 3,
   "metadata": {},
   "outputs": [],
   "source": [
    "lbt = dataset.glob('lung_n/*')\n",
    "laca = dataset.glob('lung_aca/*')\n",
    "lscc = dataset.glob('lung_scc/*')\n",
    "\n",
    "lung_benign_tissue = list(lbt)\n",
    "lung_adenocarcinoma = list(laca)\n",
    "lung_squamous_cell_carcinoma = list(lscc)"
   ]
  },
  {
   "cell_type": "code",
   "execution_count": 4,
   "metadata": {},
   "outputs": [],
   "source": [
    "label_dict = {\n",
    "    'lung_benign_tissue' : 0,\n",
    "    'lung_adenocarcinoma' : 1,\n",
    "    'lung_squamous_cell_carcinoma' : 2,\n",
    "}\n",
    "\n",
    "image_dict = {\n",
    "    'lung_benign_tissue' : lung_benign_tissue,\n",
    "    'lung_adenocarcinoma' : lung_adenocarcinoma,\n",
    "    'lung_squamous_cell_carcinoma' : lung_squamous_cell_carcinoma,\n",
    "}"
   ]
  },
  {
   "cell_type": "code",
   "execution_count": 5,
   "metadata": {},
   "outputs": [],
   "source": [
    "x,y = [],[]\n",
    "\n",
    "for name,images in image_dict.items():\n",
    "    for img in images:\n",
    "        i = cv2.imread(str(img))\n",
    "        resized_image = cv2.resize(i,(200,200))\n",
    "        resized_image = resized_image.astype(np.float16)/255.0\n",
    "        resized_image = np.round(resized_image,4)\n",
    "        x.append(resized_image)\n",
    "        y.append(label_dict[name])\n",
    "\n",
    "x = np.array(x)\n",
    "y = np.array(y)"
   ]
  },
  {
   "cell_type": "code",
   "execution_count": 6,
   "metadata": {},
   "outputs": [
    {
     "data": {
      "text/plain": [
       "array([[[[0.6353, 0.2196, 0.3452],\n",
       "         [0.5527, 0.1372, 0.341 ],\n",
       "         [0.647 , 0.1804, 0.4749],\n",
       "         ...,\n",
       "         [0.7764, 0.7256, 0.866 ],\n",
       "         [0.7725, 0.7334, 0.866 ],\n",
       "         [0.7764, 0.7607, 0.855 ]],\n",
       "\n",
       "        [[0.565 , 0.1686, 0.2627],\n",
       "         [0.537 , 0.098 , 0.2627],\n",
       "         [0.5605, 0.0824, 0.3215],\n",
       "         ...,\n",
       "         [0.749 , 0.7607, 0.8433],\n",
       "         [0.7646, 0.749 , 0.835 ],\n",
       "         [0.8037, 0.7646, 0.8433]],\n",
       "\n",
       "        [[0.5605, 0.1647, 0.247 ],\n",
       "         [0.51  , 0.0353, 0.1608],\n",
       "         [0.4749, 0.0118, 0.1882],\n",
       "         ...,\n",
       "         [0.6943, 0.745 , 0.828 ],\n",
       "         [0.718 , 0.741 , 0.8394],\n",
       "         [0.749 , 0.7256, 0.855 ]],\n",
       "\n",
       "        ...,\n",
       "\n",
       "        [[0.71  , 0.51  , 0.8   ],\n",
       "         [0.7217, 0.4824, 0.788 ],\n",
       "         [0.6743, 0.408 , 0.7295],\n",
       "         ...,\n",
       "         [0.702 , 0.3372, 0.718 ],\n",
       "         [0.714 , 0.4197, 0.792 ],\n",
       "         [0.6904, 0.3293, 0.6943]],\n",
       "\n",
       "        [[0.698 , 0.4587, 0.792 ],\n",
       "         [0.6904, 0.4236, 0.749 ],\n",
       "         [0.686 , 0.4155, 0.7334],\n",
       "         ...,\n",
       "         [0.698 , 0.306 , 0.682 ],\n",
       "         [0.7295, 0.4197, 0.788 ],\n",
       "         [0.682 , 0.3608, 0.7256]],\n",
       "\n",
       "        [[0.702 , 0.4038, 0.7725],\n",
       "         [0.6904, 0.396 , 0.741 ],\n",
       "         [0.702 , 0.443 , 0.7607],\n",
       "         ...,\n",
       "         [0.6704, 0.255 , 0.6196],\n",
       "         [0.6626, 0.3372, 0.71  ],\n",
       "         [0.682 , 0.3882, 0.753 ]]],\n",
       "\n",
       "\n",
       "       [[[0.8037, 0.6743, 0.8594],\n",
       "         [0.816 , 0.682 , 0.8623],\n",
       "         [0.835 , 0.698 , 0.8706],\n",
       "         ...,\n",
       "         [0.784 , 0.7607, 0.8594],\n",
       "         [0.792 , 0.7686, 0.866 ],\n",
       "         [0.792 , 0.7686, 0.866 ]],\n",
       "\n",
       "        [[0.8037, 0.6904, 0.866 ],\n",
       "         [0.8037, 0.686 , 0.8594],\n",
       "         [0.824 , 0.698 , 0.8594],\n",
       "         ...,\n",
       "         [0.792 , 0.7686, 0.866 ],\n",
       "         [0.792 , 0.7686, 0.866 ],\n",
       "         [0.792 , 0.7686, 0.866 ]],\n",
       "\n",
       "        [[0.8115, 0.7217, 0.8823],\n",
       "         [0.828 , 0.7295, 0.886 ],\n",
       "         [0.8115, 0.714 , 0.8623],\n",
       "         ...,\n",
       "         [0.792 , 0.7686, 0.866 ],\n",
       "         [0.792 , 0.7686, 0.866 ],\n",
       "         [0.792 , 0.7686, 0.866 ]],\n",
       "\n",
       "        ...,\n",
       "\n",
       "        [[0.82  , 0.8   , 0.9136],\n",
       "         [0.82  , 0.8   , 0.9136],\n",
       "         [0.8076, 0.788 , 0.9014],\n",
       "         ...,\n",
       "         [0.7607, 0.4587, 0.7256],\n",
       "         [0.788 , 0.5215, 0.788 ],\n",
       "         [0.7607, 0.545 , 0.8076]],\n",
       "\n",
       "        [[0.816 , 0.796 , 0.9097],\n",
       "         [0.828 , 0.8076, 0.9214],\n",
       "         [0.82  , 0.8   , 0.9136],\n",
       "         ...,\n",
       "         [0.741 , 0.4038, 0.678 ],\n",
       "         [0.784 , 0.4905, 0.7686],\n",
       "         [0.753 , 0.5137, 0.792 ]],\n",
       "\n",
       "        [[0.82  , 0.8   , 0.9136],\n",
       "         [0.831 , 0.8115, 0.926 ],\n",
       "         [0.824 , 0.8037, 0.9175],\n",
       "         ...,\n",
       "         [0.718 , 0.3687, 0.639 ],\n",
       "         [0.7686, 0.463 , 0.745 ],\n",
       "         [0.757 , 0.506 , 0.796 ]]],\n",
       "\n",
       "\n",
       "       [[[0.8037, 0.784 , 0.824 ],\n",
       "         [0.796 , 0.784 , 0.824 ],\n",
       "         [0.7803, 0.788 , 0.82  ],\n",
       "         ...,\n",
       "         [0.82  , 0.792 , 0.847 ],\n",
       "         [0.82  , 0.792 , 0.847 ],\n",
       "         [0.816 , 0.788 , 0.8433]],\n",
       "\n",
       "        [[0.8   , 0.7686, 0.8115],\n",
       "         [0.8   , 0.7686, 0.8115],\n",
       "         [0.8037, 0.7803, 0.824 ],\n",
       "         ...,\n",
       "         [0.8076, 0.7803, 0.8394],\n",
       "         [0.8076, 0.7803, 0.8394],\n",
       "         [0.8037, 0.7725, 0.835 ]],\n",
       "\n",
       "        [[0.796 , 0.7686, 0.82  ],\n",
       "         [0.8076, 0.7764, 0.828 ],\n",
       "         [0.8   , 0.7686, 0.82  ],\n",
       "         ...,\n",
       "         [0.816 , 0.784 , 0.851 ],\n",
       "         [0.82  , 0.784 , 0.855 ],\n",
       "         [0.8076, 0.7764, 0.8433]],\n",
       "\n",
       "        ...,\n",
       "\n",
       "        [[0.714 , 0.4473, 0.7256],\n",
       "         [0.7256, 0.4707, 0.749 ],\n",
       "         [0.7334, 0.4905, 0.7646],\n",
       "         ...,\n",
       "         [0.7725, 0.537 , 0.7764],\n",
       "         [0.792 , 0.5527, 0.792 ],\n",
       "         [0.7686, 0.549 , 0.7764]],\n",
       "\n",
       "        [[0.718 , 0.4392, 0.7373],\n",
       "         [0.749 , 0.4905, 0.7725],\n",
       "         [0.753 , 0.533 , 0.7803],\n",
       "         ...,\n",
       "         [0.7803, 0.5254, 0.7686],\n",
       "         [0.7686, 0.5293, 0.7725],\n",
       "         [0.753 , 0.537 , 0.7646]],\n",
       "\n",
       "        [[0.7295, 0.4785, 0.7607],\n",
       "         [0.7607, 0.537 , 0.788 ],\n",
       "         [0.753 , 0.5806, 0.788 ],\n",
       "         ...,\n",
       "         [0.796 , 0.5293, 0.7725],\n",
       "         [0.7373, 0.4863, 0.7334],\n",
       "         [0.741 , 0.5293, 0.757 ]]],\n",
       "\n",
       "\n",
       "       ...,\n",
       "\n",
       "\n",
       "       [[[0.835 , 0.353 , 0.5176],\n",
       "         [0.8   , 0.3804, 0.569 ],\n",
       "         [0.9214, 0.549 , 0.718 ],\n",
       "         ...,\n",
       "         [0.835 , 0.349 , 0.5293],\n",
       "         [0.855 , 0.4   , 0.5923],\n",
       "         [0.8594, 0.3843, 0.5884]],\n",
       "\n",
       "        [[0.8745, 0.4   , 0.5767],\n",
       "         [0.831 , 0.4038, 0.5923],\n",
       "         [0.8594, 0.4707, 0.643 ],\n",
       "         ...,\n",
       "         [0.82  , 0.3137, 0.498 ],\n",
       "         [0.82  , 0.353 , 0.545 ],\n",
       "         [0.831 , 0.357 , 0.565 ]],\n",
       "\n",
       "        [[0.8623, 0.412 , 0.5845],\n",
       "         [0.8394, 0.4   , 0.5845],\n",
       "         [0.8594, 0.4392, 0.6157],\n",
       "         ...,\n",
       "         [0.784 , 0.251 , 0.4392],\n",
       "         [0.828 , 0.3372, 0.5293],\n",
       "         [0.824 , 0.353 , 0.5566]],\n",
       "\n",
       "        ...,\n",
       "\n",
       "        [[0.8037, 0.3293, 0.569 ],\n",
       "         [0.792 , 0.3293, 0.565 ],\n",
       "         [0.835 , 0.353 , 0.5728],\n",
       "         ...,\n",
       "         [0.714 , 0.1255, 0.3608],\n",
       "         [0.788 , 0.2588, 0.506 ],\n",
       "         [0.82  , 0.3726, 0.604 ]],\n",
       "\n",
       "        [[0.796 , 0.3215, 0.5566],\n",
       "         [0.816 , 0.3333, 0.5767],\n",
       "         [0.8394, 0.3452, 0.5767],\n",
       "         ...,\n",
       "         [0.718 , 0.153 , 0.396 ],\n",
       "         [0.792 , 0.298 , 0.533 ],\n",
       "         [0.851 , 0.412 , 0.6313]],\n",
       "\n",
       "        [[0.8037, 0.3293, 0.565 ],\n",
       "         [0.831 , 0.3372, 0.5884],\n",
       "         [0.8115, 0.306 , 0.541 ],\n",
       "         ...,\n",
       "         [0.788 , 0.251 , 0.494 ],\n",
       "         [0.816 , 0.341 , 0.5728],\n",
       "         [0.8975, 0.4663, 0.6743]]],\n",
       "\n",
       "\n",
       "       [[[0.8706, 0.4275, 0.686 ],\n",
       "         [0.8594, 0.4197, 0.639 ],\n",
       "         [0.8975, 0.4663, 0.6587],\n",
       "         ...,\n",
       "         [0.8433, 0.3804, 0.6157],\n",
       "         [0.7607, 0.3137, 0.5605],\n",
       "         [0.796 , 0.3098, 0.569 ]],\n",
       "\n",
       "        [[0.8945, 0.4707, 0.706 ],\n",
       "         [0.8906, 0.4863, 0.6904],\n",
       "         [0.937 , 0.537 , 0.7217],\n",
       "         ...,\n",
       "         [0.824 , 0.349 , 0.5884],\n",
       "         [0.8037, 0.3293, 0.5806],\n",
       "         [0.8037, 0.302 , 0.5605]],\n",
       "\n",
       "        [[0.9136, 0.5137, 0.7217],\n",
       "         [0.965 , 0.604 , 0.7803],\n",
       "         [0.9175, 0.565 , 0.7334],\n",
       "         ...,\n",
       "         [0.831 , 0.341 , 0.5845],\n",
       "         [0.831 , 0.3293, 0.5845],\n",
       "         [0.8115, 0.2864, 0.549 ]],\n",
       "\n",
       "        ...,\n",
       "\n",
       "        [[0.8784, 0.4749, 0.647 ],\n",
       "         [0.9097, 0.5254, 0.706 ],\n",
       "         [0.8823, 0.4905, 0.678 ],\n",
       "         ...,\n",
       "         [0.8394, 0.3098, 0.4905],\n",
       "         [0.847 , 0.3137, 0.5137],\n",
       "         [0.8394, 0.3176, 0.537 ]],\n",
       "\n",
       "        [[0.9136, 0.4749, 0.6665],\n",
       "         [0.946 , 0.506 , 0.702 ],\n",
       "         [0.8975, 0.4587, 0.651 ],\n",
       "         ...,\n",
       "         [0.831 , 0.3452, 0.5176],\n",
       "         [0.828 , 0.3293, 0.541 ],\n",
       "         [0.828 , 0.3215, 0.5566]],\n",
       "\n",
       "        [[0.9214, 0.4353, 0.643 ],\n",
       "         [0.8823, 0.3882, 0.5923],\n",
       "         [0.8906, 0.4   , 0.604 ],\n",
       "         ...,\n",
       "         [0.8706, 0.408 , 0.596 ],\n",
       "         [0.8394, 0.3726, 0.5806],\n",
       "         [0.784 , 0.2903, 0.51  ]]],\n",
       "\n",
       "\n",
       "       [[[0.8623, 0.463 , 0.612 ],\n",
       "         [0.851 , 0.4749, 0.6196],\n",
       "         [0.8823, 0.5293, 0.6626],\n",
       "         ...,\n",
       "         [0.8623, 0.3765, 0.596 ],\n",
       "         [0.847 , 0.3765, 0.608 ],\n",
       "         [0.824 , 0.3843, 0.6   ]],\n",
       "\n",
       "        [[0.866 , 0.4863, 0.643 ],\n",
       "         [0.866 , 0.4905, 0.6353],\n",
       "         [0.8945, 0.533 , 0.6704],\n",
       "         ...,\n",
       "         [0.835 , 0.3647, 0.5767],\n",
       "         [0.8433, 0.3804, 0.604 ],\n",
       "         [0.831 , 0.396 , 0.604 ]],\n",
       "\n",
       "        [[0.866 , 0.4663, 0.643 ],\n",
       "         [0.8594, 0.4824, 0.6353],\n",
       "         [0.886 , 0.5293, 0.6587],\n",
       "         ...,\n",
       "         [0.824 , 0.3882, 0.5845],\n",
       "         [0.8433, 0.396 , 0.608 ],\n",
       "         [0.851 , 0.4236, 0.6274]],\n",
       "\n",
       "        ...,\n",
       "\n",
       "        [[0.7607, 0.3137, 0.4548],\n",
       "         [0.757 , 0.2825, 0.4507],\n",
       "         [0.757 , 0.2627, 0.4548],\n",
       "         ...,\n",
       "         [0.792 , 0.3176, 0.4507],\n",
       "         [0.7686, 0.2864, 0.4197],\n",
       "         [0.784 , 0.2903, 0.4275]],\n",
       "\n",
       "        [[0.7646, 0.3254, 0.463 ],\n",
       "         [0.7607, 0.2705, 0.443 ],\n",
       "         [0.7607, 0.251 , 0.4473],\n",
       "         ...,\n",
       "         [0.784 , 0.3137, 0.4473],\n",
       "         [0.7725, 0.298 , 0.4275],\n",
       "         [0.784 , 0.302 , 0.4353]],\n",
       "\n",
       "        [[0.788 , 0.3333, 0.4749],\n",
       "         [0.7803, 0.2588, 0.4312],\n",
       "         [0.788 , 0.2432, 0.443 ],\n",
       "         ...,\n",
       "         [0.784 , 0.3215, 0.4507],\n",
       "         [0.796 , 0.3254, 0.4587],\n",
       "         [0.828 , 0.353 , 0.4863]]]], dtype=float16)"
      ]
     },
     "execution_count": 6,
     "metadata": {},
     "output_type": "execute_result"
    }
   ],
   "source": [
    "x"
   ]
  },
  {
   "cell_type": "code",
   "execution_count": 7,
   "metadata": {},
   "outputs": [],
   "source": [
    "x_train,x_test,y_train,y_test = train_test_split(x,y,train_size=0.7,random_state=10)"
   ]
  },
  {
   "cell_type": "code",
   "execution_count": 8,
   "metadata": {},
   "outputs": [
    {
     "data": {
      "text/plain": [
       "(10500, 200, 200, 3)"
      ]
     },
     "execution_count": 8,
     "metadata": {},
     "output_type": "execute_result"
    }
   ],
   "source": [
    "x_train.shape"
   ]
  },
  {
   "cell_type": "code",
   "execution_count": 9,
   "metadata": {},
   "outputs": [],
   "source": [
    "# x_test,x_val,y_test,y_val = train_test_split(x_test,y_test,train_size=0.5,random_state=10)"
   ]
  },
  {
   "cell_type": "code",
   "execution_count": 10,
   "metadata": {},
   "outputs": [
    {
     "name": "stdout",
     "output_type": "stream",
     "text": [
      "Model: \"sequential\"\n",
      "_________________________________________________________________\n",
      " Layer (type)                Output Shape              Param #   \n",
      "=================================================================\n",
      " inception_resnet_v2 (Funct  (None, 4, 4, 1536)        54336736  \n",
      " ional)                                                          \n",
      "                                                                 \n",
      " global_average_pooling2d (  (None, 1536)              0         \n",
      " GlobalAveragePooling2D)                                         \n",
      "                                                                 \n",
      " dense (Dense)               (None, 3)                 4611      \n",
      "                                                                 \n",
      "=================================================================\n",
      "Total params: 54341347 (207.30 MB)\n",
      "Trainable params: 4611 (18.01 KB)\n",
      "Non-trainable params: 54336736 (207.28 MB)\n",
      "_________________________________________________________________\n"
     ]
    }
   ],
   "source": [
    "model = Sequential()\n",
    "inc_res_model = inception_resnet_v2.InceptionResNetV2(weights='imagenet',include_top=False,input_shape=(200,200,3))\n",
    "model.add(inc_res_model)\n",
    "model.add(GlobalAveragePooling2D())\n",
    "model.add(Dense(3,activation='softmax'))\n",
    "\n",
    "for layer in inc_res_model.layers:\n",
    "    layer.trainable = False\n",
    "\n",
    "y_train_cat = to_categorical(y_train, num_classes=3)\n",
    "# y_val_cat = to_categorical(y_val, num_classes=3)\n",
    "model.compile(optimizer='adam', loss='categorical_crossentropy', metrics=['accuracy'])\n",
    "model.summary()"
   ]
  },
  {
   "cell_type": "code",
   "execution_count": 11,
   "metadata": {},
   "outputs": [
    {
     "name": "stdout",
     "output_type": "stream",
     "text": [
      "Epoch 1/5\n",
      "1313/1313 [==============================] - 571s 424ms/step - loss: 0.1888 - accuracy: 0.9290\n",
      "Epoch 2/5\n",
      "1313/1313 [==============================] - 1294s 986ms/step - loss: 0.1145 - accuracy: 0.9549\n",
      "Epoch 3/5\n",
      "1313/1313 [==============================] - 572s 435ms/step - loss: 0.1015 - accuracy: 0.9578\n",
      "Epoch 4/5\n",
      "1313/1313 [==============================] - 583s 444ms/step - loss: 0.0874 - accuracy: 0.9649\n",
      "Epoch 5/5\n",
      "1313/1313 [==============================] - 583s 444ms/step - loss: 0.0822 - accuracy: 0.9673\n"
     ]
    }
   ],
   "source": [
    "history = model.fit(x_train,y_train_cat,epochs=5,batch_size=8)"
   ]
  },
  {
   "cell_type": "code",
   "execution_count": 12,
   "metadata": {},
   "outputs": [],
   "source": [
    "model_hist=pd.DataFrame(history.history)"
   ]
  },
  {
   "cell_type": "code",
   "execution_count": 21,
   "metadata": {},
   "outputs": [
    {
     "name": "stdout",
     "output_type": "stream",
     "text": [
      "141/141 [==============================] - 229s 2s/step - loss: 0.1127 - accuracy: 0.9584\n"
     ]
    },
    {
     "data": {
      "text/plain": [
       "[0.11272533982992172, 0.9584444165229797]"
      ]
     },
     "execution_count": 21,
     "metadata": {},
     "output_type": "execute_result"
    }
   ],
   "source": [
    "y_test_cat=to_categorical(y_test,num_classes=3)\n",
    "model.evaluate(x_test,y_test_cat)"
   ]
  },
  {
   "cell_type": "code",
   "execution_count": 22,
   "metadata": {},
   "outputs": [
    {
     "data": {
      "image/png": "[encoded data removed]",
      "text/plain": [
       "<Figure size 640x480 with 1 Axes>"
      ]
     },
     "metadata": {},
     "output_type": "display_data"
    }
   ],
   "source": [
    "plt.plot(history.history['accuracy'],color='blue',label='accuracy')\n",
    "plt.legend()\n",
    "plt.title('Accuracy')\n",
    "plt.show()"
   ]
  },
  {
   "cell_type": "code",
   "execution_count": 23,
   "metadata": {},
   "outputs": [
    {
     "data": {
      "image/png": "[encoded data removed]",
      "text/plain": [
       "<Figure size 640x480 with 1 Axes>"
      ]
     },
     "metadata": {},
     "output_type": "display_data"
    }
   ],
   "source": [
    "x=list(range(0,3))\n",
    "plt.plot(model_hist['loss'])\n",
    "plt.xticks(x)\n",
    "plt.title(\"Training Loss\")\n",
    "plt.show()"
   ]
  },
  {
   "cell_type": "code",
   "execution_count": 24,
   "metadata": {},
   "outputs": [
    {
     "name": "stdout",
     "output_type": "stream",
     "text": [
      "141/141 [==============================] - 230s 2s/step\n",
      "              precision    recall  f1-score   support\n",
      "\n",
      "           0       1.00      1.00      1.00      1480\n",
      "           1       0.99      0.90      0.94      1703\n",
      "           2       0.88      0.99      0.93      1317\n",
      "\n",
      "    accuracy                           0.96      4500\n",
      "   macro avg       0.96      0.96      0.96      4500\n",
      "weighted avg       0.96      0.96      0.96      4500\n",
      "\n"
     ]
    }
   ],
   "source": [
    "y_pred_model=model.predict(x_test)\n",
    "y_pred_model=np.argmax(y_pred_model,axis=1)\n",
    "print(classification_report(y_pred_model,y_test))"
   ]
  },
  {
   "cell_type": "code",
   "execution_count": 25,
   "metadata": {},
   "outputs": [
    {
     "data": {
      "text/plain": [
       "0.9584444444444444"
      ]
     },
     "execution_count": 25,
     "metadata": {},
     "output_type": "execute_result"
    }
   ],
   "source": [
    "accuracy_score(y_test,y_pred_model)"
   ]
  },
  {
   "cell_type": "code",
   "execution_count": 26,
   "metadata": {},
   "outputs": [
    {
     "data": {
      "text/plain": [
       "<Axes: >"
      ]
     },
     "execution_count": 26,
     "metadata": {},
     "output_type": "execute_result"
    },
    {
     "data": {
      "image/png": "[encoded data removed]",
      "text/plain": [
       "<Figure size 640x480 with 2 Axes>"
      ]
     },
     "metadata": {},
     "output_type": "display_data"
    }
   ],
   "source": [
    "sns.heatmap(confusion_matrix(y_test,y_pred_model),annot=True,fmt='d')"
   ]
  },
  {
   "cell_type": "code",
   "execution_count": null,
   "metadata": {},
   "outputs": [],
   "source": []
  }
 ],
 "metadata": {
  "kernelspec": {
   "display_name": "DL",
   "language": "python",
   "name": "python3"
  },
  "language_info": {
   "codemirror_mode": {
    "name": "ipython",
    "version": 3
   },
   "file_extension": ".py",
   "mimetype": "text/x-python",
   "name": "python",
   "nbconvert_exporter": "python",
   "pygments_lexer": "ipython3",
   "version": "3.11.5"
  },
  "orig_nbformat": 4
 },
 "nbformat": 4,
 "nbformat_minor": 2
}
