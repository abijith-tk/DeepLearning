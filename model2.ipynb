{
 "cells": [
  {
   "cell_type": "code",
   "execution_count": 1,
   "metadata": {},
   "outputs": [],
   "source": [
    "import numpy as np \n",
    "import pandas as pd \n",
    "import tensorflow as tf \n",
    "from tensorflow import keras \n",
    "from keras.applications import inception_resnet_v2\n",
    "from keras.layers import GlobalAveragePooling2D,Dense\n",
    "from keras.models import Sequential\n",
    "from keras.utils import to_categorical \n",
    "import matplotlib.pyplot as plt \n",
    "from sklearn.model_selection import train_test_split \n",
    "from sklearn.metrics import accuracy_score,confusion_matrix,classification_report\n",
    "import seaborn as sns \n",
    "import glob \n",
    "import cv2\n",
    "import pathlib\n",
    "from tqdm import tqdm"
   ]
  },
  {
   "cell_type": "code",
   "execution_count": 2,
   "metadata": {},
   "outputs": [],
   "source": [
    "dataset = pathlib.Path('lung_colon_image_set/colon_image_sets/')\n",
    "images = list(dataset.glob('*/*.jpeg'))\n",
    "\n",
    "cacc = dataset.glob('colon_aca/*')\n",
    "cbt = dataset.glob('colon_n/*')\n",
    "\n",
    "colon_adenocarcinoma = list(cacc)\n",
    "colon_benign_tissue = list(cbt)"
   ]
  },
  {
   "cell_type": "code",
   "execution_count": 3,
   "metadata": {},
   "outputs": [],
   "source": [
    "label_dict = {\n",
    "    'colon_adenocarcinoma' : 0,\n",
    "    'colon_benign_tissue' : 1\n",
    "}\n",
    "\n",
    "image_dict = {\n",
    "    'colon_adenocarcinoma' : colon_adenocarcinoma,\n",
    "    'colon_benign_tissue' :colon_benign_tissue\n",
    "}"
   ]
  },
  {
   "cell_type": "code",
   "execution_count": 4,
   "metadata": {},
   "outputs": [
    {
     "name": "stderr",
     "output_type": "stream",
     "text": [
      "Processing Images: 100%|██████████| 2/2 [01:42<00:00, 51.44s/it]\n"
     ]
    }
   ],
   "source": [
    "x,y = [],[]\n",
    "\n",
    "for name,images in tqdm(image_dict.items(), desc='Processing Images'):\n",
    "    for i in tqdm(images, desc=f'Processing {name} Images', leave=False):\n",
    "        img = cv2.imread(str(i))\n",
    "        re_img = cv2.resize(img,(200,200))\n",
    "        re_img=np.round((re_img.astype(np.float16)/255.0),4)\n",
    "        x.append(re_img)\n",
    "        y.append(label_dict[name])\n",
    "\n",
    "x = np.array(x)\n",
    "y = np.array(y)"
   ]
  },
  {
   "cell_type": "code",
   "execution_count": 5,
   "metadata": {},
   "outputs": [
    {
     "data": {
      "text/plain": [
       "(5600, 200, 200, 3)"
      ]
     },
     "execution_count": 5,
     "metadata": {},
     "output_type": "execute_result"
    }
   ],
   "source": [
    "x_train,x_test,y_train,y_test = train_test_split(x,y,train_size=0.7,random_state=10)\n",
    "x_test,x_val,y_test,y_val = train_test_split(x_test,y_test,test_size=0.5,random_state=10)\n",
    "x_train.shape"
   ]
  },
  {
   "cell_type": "code",
   "execution_count": 6,
   "metadata": {},
   "outputs": [
    {
     "name": "stdout",
     "output_type": "stream",
     "text": [
      "Model: \"sequential\"\n",
      "_________________________________________________________________\n",
      " Layer (type)                Output Shape              Param #   \n",
      "=================================================================\n",
      " inception_resnet_v2 (Funct  (None, 4, 4, 1536)        54336736  \n",
      " ional)                                                          \n",
      "                                                                 \n",
      " global_average_pooling2d (  (None, 1536)              0         \n",
      " GlobalAveragePooling2D)                                         \n",
      "                                                                 \n",
      " dense (Dense)               (None, 2)                 3074      \n",
      "                                                                 \n",
      "=================================================================\n",
      "Total params: 54339810 (207.29 MB)\n",
      "Trainable params: 3074 (12.01 KB)\n",
      "Non-trainable params: 54336736 (207.28 MB)\n",
      "_________________________________________________________________\n"
     ]
    }
   ],
   "source": [
    "model = Sequential()\n",
    "inc_res_model = inception_resnet_v2.InceptionResNetV2(weights='imagenet',include_top=False,input_shape=(200,200,3))\n",
    "model.add(inc_res_model)\n",
    "model.add(GlobalAveragePooling2D())\n",
    "model.add(Dense(2,activation='softmax'))\n",
    "\n",
    "for layer in inc_res_model.layers:\n",
    "    layer.trainable = False\n",
    "\n",
    "y_train_cat = to_categorical(y_train, num_classes=2)\n",
    "y_test_cat = to_categorical(y_test,num_classes=2)\n",
    "y_val_cat = to_categorical(y_val,num_classes=2)\n",
    "model.compile(optimizer='adam', loss='categorical_crossentropy', metrics=['accuracy'])\n",
    "model.summary()"
   ]
  },
  {
   "cell_type": "code",
   "execution_count": 7,
   "metadata": {},
   "outputs": [
    {
     "name": "stdout",
     "output_type": "stream",
     "text": [
      "Epoch 1/10\n",
      "700/700 [==============================] - 385s 533ms/step - loss: 0.0563 - accuracy: 0.9796 - val_loss: 0.0172 - val_accuracy: 0.9933\n",
      "Epoch 2/10\n",
      "700/700 [==============================] - 358s 512ms/step - loss: 0.0222 - accuracy: 0.9916 - val_loss: 0.0161 - val_accuracy: 0.9967\n",
      "Epoch 3/10\n",
      "700/700 [==============================] - 358s 511ms/step - loss: 0.0135 - accuracy: 0.9955 - val_loss: 0.0103 - val_accuracy: 0.9967\n",
      "Epoch 4/10\n",
      "700/700 [==============================] - 359s 513ms/step - loss: 0.0117 - accuracy: 0.9954 - val_loss: 0.0111 - val_accuracy: 0.9958\n",
      "Epoch 5/10\n",
      "700/700 [==============================] - 360s 515ms/step - loss: 0.0110 - accuracy: 0.9962 - val_loss: 0.0155 - val_accuracy: 0.9942\n",
      "Epoch 6/10\n",
      "700/700 [==============================] - 361s 516ms/step - loss: 0.0115 - accuracy: 0.9952 - val_loss: 0.0082 - val_accuracy: 0.9967\n",
      "Epoch 7/10\n",
      "700/700 [==============================] - 380s 544ms/step - loss: 0.0040 - accuracy: 0.9987 - val_loss: 0.0218 - val_accuracy: 0.9942\n",
      "Epoch 8/10\n",
      "700/700 [==============================] - 372s 532ms/step - loss: 0.0047 - accuracy: 0.9986 - val_loss: 0.0085 - val_accuracy: 0.9958\n",
      "Epoch 9/10\n",
      "700/700 [==============================] - 370s 528ms/step - loss: 0.0103 - accuracy: 0.9968 - val_loss: 0.0057 - val_accuracy: 0.9975\n",
      "Epoch 10/10\n",
      "700/700 [==============================] - 370s 528ms/step - loss: 0.0036 - accuracy: 0.9991 - val_loss: 0.0068 - val_accuracy: 0.9975\n"
     ]
    }
   ],
   "source": [
    "history = model.fit(x_train,y_train_cat,validation_data=(x_val,y_val_cat),epochs=10,batch_size=8)"
   ]
  },
  {
   "cell_type": "code",
   "execution_count": 8,
   "metadata": {},
   "outputs": [],
   "source": [
    "hist = pd.DataFrame(history.history)"
   ]
  },
  {
   "cell_type": "code",
   "execution_count": 9,
   "metadata": {},
   "outputs": [
    {
     "name": "stdout",
     "output_type": "stream",
     "text": [
      "38/38 [==============================] - 64s 2s/step - loss: 0.0072 - accuracy: 0.9983\n"
     ]
    },
    {
     "data": {
      "text/plain": [
       "[0.007220595609396696, 0.9983333349227905]"
      ]
     },
     "execution_count": 9,
     "metadata": {},
     "output_type": "execute_result"
    }
   ],
   "source": [
    "model.evaluate(x_test,y_test_cat)"
   ]
  },
  {
   "cell_type": "code",
   "execution_count": 10,
   "metadata": {},
   "outputs": [
    {
     "data": {
      "image/png": "[encoded data removed]",
      "text/plain": [
       "<Figure size 640x480 with 1 Axes>"
      ]
     },
     "metadata": {},
     "output_type": "display_data"
    }
   ],
   "source": [
    "plt.plot(history.history['accuracy'],color='blue',label='accuracy')\n",
    "plt.legend()\n",
    "plt.title('Accuracy')\n",
    "plt.show()"
   ]
  },
  {
   "cell_type": "code",
   "execution_count": 11,
   "metadata": {},
   "outputs": [
    {
     "data": {
      "image/png": "[encoded data removed]",
      "text/plain": [
       "<Figure size 640x480 with 1 Axes>"
      ]
     },
     "metadata": {},
     "output_type": "display_data"
    }
   ],
   "source": [
    "x=list(range(0,3))\n",
    "plt.plot(hist['loss'])\n",
    "plt.xticks(x)\n",
    "plt.title(\"Training Loss\")\n",
    "plt.show()"
   ]
  },
  {
   "cell_type": "code",
   "execution_count": 12,
   "metadata": {},
   "outputs": [
    {
     "name": "stderr",
     "output_type": "stream",
     "text": [
      "c:\\Users\\abi\\Desktop\\abijith\\DeepLearning\\DL\\Lib\\site-packages\\keras\\src\\engine\\training.py:3000: UserWarning: You are saving your model as an HDF5 file via `model.save()`. This file format is considered legacy. We recommend using instead the native Keras format, e.g. `model.save('my_model.keras')`.\n",
      "  saving_api.save_model(\n"
     ]
    }
   ],
   "source": [
    "model.save(\"model2.h5\")"
   ]
  },
  {
   "cell_type": "code",
   "execution_count": null,
   "metadata": {},
   "outputs": [],
   "source": []
  }
 ],
 "metadata": {
  "kernelspec": {
   "display_name": "DL",
   "language": "python",
   "name": "python3"
  },
  "language_info": {
   "codemirror_mode": {
    "name": "ipython",
    "version": 3
   },
   "file_extension": ".py",
   "mimetype": "text/x-python",
   "name": "python",
   "nbconvert_exporter": "python",
   "pygments_lexer": "ipython3",
   "version": "3.11.5"
  },
  "orig_nbformat": 4
 },
 "nbformat": 4,
 "nbformat_minor": 2
}
