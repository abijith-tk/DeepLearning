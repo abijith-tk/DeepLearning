{
 "cells": [
  {
   "cell_type": "code",
   "execution_count": 1,
   "metadata": {},
   "outputs": [],
   "source": [
    "import numpy as np \n",
    "import pandas as pd \n",
    "import tensorflow as tf \n",
    "from tensorflow import keras \n",
    "from keras.applications import inception_resnet_v2\n",
    "from keras.layers import GlobalAveragePooling2D,Dense\n",
    "from keras.models import Sequential\n",
    "from keras.utils import to_categorical \n",
    "import matplotlib.pyplot as plt \n",
    "from sklearn.model_selection import train_test_split \n",
    "from sklearn.metrics import accuracy_score,confusion_matrix,classification_report\n",
    "import seaborn as sns \n",
    "import glob \n",
    "import cv2\n",
    "import pathlib"
   ]
  },
  {
   "cell_type": "code",
   "execution_count": 2,
   "metadata": {},
   "outputs": [],
   "source": [
    "dataset = pathlib.Path('lung_colon_image_set/colon_image_sets/')\n",
    "images = list(dataset.glob('*/*.jpeg'))\n",
    "\n",
    "cacc = dataset.glob('colon_aca/*')\n",
    "cbt = dataset.glob('colon_n/*')\n",
    "\n",
    "colon_adenocarcinoma = list(cacc)\n",
    "colon_benign_tissue = list(cbt)"
   ]
  },
  {
   "cell_type": "code",
   "execution_count": 3,
   "metadata": {},
   "outputs": [],
   "source": [
    "label_dict = {\n",
    "    'colon_adenocarcinoma' : 0,\n",
    "    'colon_benign_tissue' : 1\n",
    "}\n",
    "\n",
    "image_dict = {\n",
    "    'colon_adenocarcinoma' : colon_adenocarcinoma,\n",
    "    'colon_benign_tissue' :colon_benign_tissue\n",
    "}"
   ]
  },
  {
   "cell_type": "code",
   "execution_count": 4,
   "metadata": {},
   "outputs": [],
   "source": [
    "x,y = [],[]\n",
    "\n",
    "for name,images in image_dict.items():\n",
    "    for i in images:\n",
    "        img = cv2.imread(str(i))\n",
    "        re_img = cv2.resize(img,(200,200))\n",
    "        re_img=np.round((re_img.astype(np.float16)/255.0),4)\n",
    "        x.append(re_img)\n",
    "        y.append(label_dict[name])\n",
    "\n",
    "x = np.array(x)\n",
    "y = np.array(y)"
   ]
  },
  {
   "cell_type": "code",
   "execution_count": 5,
   "metadata": {},
   "outputs": [
    {
     "data": {
      "text/plain": [
       "(7000, 200, 200, 3)"
      ]
     },
     "execution_count": 5,
     "metadata": {},
     "output_type": "execute_result"
    }
   ],
   "source": [
    "x_train,x_test,y_train,y_test = train_test_split(x,y,test_size=0.3,random_state=100)\n",
    "x_train.shape"
   ]
  },
  {
   "cell_type": "code",
   "execution_count": 8,
   "metadata": {},
   "outputs": [
    {
     "name": "stdout",
     "output_type": "stream",
     "text": [
      "Model: \"sequential_1\"\n",
      "_________________________________________________________________\n",
      " Layer (type)                Output Shape              Param #   \n",
      "=================================================================\n",
      " inception_resnet_v2 (Funct  (None, 4, 4, 1536)        54336736  \n",
      " ional)                                                          \n",
      "                                                                 \n",
      " global_average_pooling2d_1  (None, 1536)              0         \n",
      "  (GlobalAveragePooling2D)                                       \n",
      "                                                                 \n",
      " dense_1 (Dense)             (None, 2)                 3074      \n",
      "                                                                 \n",
      "=================================================================\n",
      "Total params: 54339810 (207.29 MB)\n",
      "Trainable params: 3074 (12.01 KB)\n",
      "Non-trainable params: 54336736 (207.28 MB)\n",
      "_________________________________________________________________\n"
     ]
    }
   ],
   "source": [
    "model = Sequential()\n",
    "inc_res_model = inception_resnet_v2.InceptionResNetV2(weights='imagenet',include_top=False,input_shape=(200,200,3))\n",
    "model.add(inc_res_model)\n",
    "model.add(GlobalAveragePooling2D())\n",
    "model.add(Dense(2,activation='softmax'))\n",
    "\n",
    "for layer in inc_res_model.layers:\n",
    "    layer.trainable = False\n",
    "\n",
    "y_train_cat = to_categorical(y_train, num_classes=2)\n",
    "y_test_cat = to_categorical(y_test,num_classes=2)\n",
    "model.compile(optimizer='adam', loss='categorical_crossentropy', metrics=['accuracy'])\n",
    "model.summary()"
   ]
  },
  {
   "cell_type": "code",
   "execution_count": 9,
   "metadata": {},
   "outputs": [
    {
     "name": "stdout",
     "output_type": "stream",
     "text": [
      "Epoch 1/10\n",
      "875/875 [==============================] - 442s 490ms/step - loss: 0.0616 - accuracy: 0.9779\n",
      "Epoch 2/10\n",
      "186/875 [=====>........................] - ETA: 5:25 - loss: 0.0222 - accuracy: 0.9913"
     ]
    }
   ],
   "source": [
    "history = model.fit(x_train,y_train_cat,epochs=10,batch_size=8)"
   ]
  },
  {
   "cell_type": "code",
   "execution_count": null,
   "metadata": {},
   "outputs": [],
   "source": [
    "hist = pd.DataFrame(history.history)"
   ]
  },
  {
   "cell_type": "code",
   "execution_count": null,
   "metadata": {},
   "outputs": [],
   "source": [
    "model.evaluate(x_test,y_test_cat)"
   ]
  },
  {
   "cell_type": "code",
   "execution_count": null,
   "metadata": {},
   "outputs": [],
   "source": [
    "plt.plot(history.history['accuracy'],color='blue',label='accuracy')\n",
    "plt.legend()\n",
    "plt.title('Accuracy')\n",
    "plt.show()"
   ]
  },
  {
   "cell_type": "code",
   "execution_count": null,
   "metadata": {},
   "outputs": [],
   "source": [
    "x=list(range(0,3))\n",
    "plt.plot(hist['loss'])\n",
    "plt.xticks(x)\n",
    "plt.title(\"Training Loss\")\n",
    "plt.show()"
   ]
  },
  {
   "cell_type": "code",
   "execution_count": null,
   "metadata": {},
   "outputs": [],
   "source": [
    "y_pred_model=model.predict(x_test)\n",
    "y_pred_model=np.argmax(y_pred_model,axis=1)\n",
    "print(classification_report(y_pred_model,y_test))\n",
    "sns.heatmap(confusion_matrix(y_test,y_pred_model),annot=True,fmt='d')"
   ]
  }
 ],
 "metadata": {
  "kernelspec": {
   "display_name": "DL",
   "language": "python",
   "name": "python3"
  },
  "language_info": {
   "codemirror_mode": {
    "name": "ipython",
    "version": 3
   },
   "file_extension": ".py",
   "mimetype": "text/x-python",
   "name": "python",
   "nbconvert_exporter": "python",
   "pygments_lexer": "ipython3",
   "version": "3.11.5"
  },
  "orig_nbformat": 4
 },
 "nbformat": 4,
 "nbformat_minor": 2
}
